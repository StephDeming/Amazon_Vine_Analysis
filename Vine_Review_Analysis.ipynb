{
  "nbformat": 4,
  "nbformat_minor": 0,
  "metadata": {
    "colab": {
      "name": "Vine_Review_Analysis.ipynb",
      "provenance": [],
      "include_colab_link": true
    },
    "kernelspec": {
      "name": "python3",
      "display_name": "Python 3"
    },
    "nteract": {
      "version": "0.12.3"
    },
    "language_info": {
      "name": "python"
    }
  },
  "cells": [
    {
      "cell_type": "markdown",
      "metadata": {
        "id": "view-in-github",
        "colab_type": "text"
      },
      "source": [
        "<a href=\"https://colab.research.google.com/github/StephDeming/Amazon_Vine_Analysis/blob/main/Vine_Review_Analysis.ipynb\" target=\"_parent\"><img src=\"https://colab.research.google.com/assets/colab-badge.svg\" alt=\"Open In Colab\"/></a>"
      ]
    },
    {
      "cell_type": "code",
      "metadata": {
        "id": "V58rxea0HqSa",
        "colab": {
          "base_uri": "https://localhost:8080/"
        },
        "outputId": "dc24353b-ea81-47dc-ec3d-ddeb1a9eaebe"
      },
      "source": [
        "import os\n",
        "# Find the latest version of spark 3.0 from http://www.apache.org/dist/spark/ and enter as the spark version\n",
        "# For example:\n",
        "# spark_version = 'spark-3.0.3'\n",
        "spark_version = 'spark-3.2.0'\n",
        "os.environ['SPARK_VERSION']=spark_version\n",
        "\n",
        "# Install Spark and Java\n",
        "!apt-get update\n",
        "!apt-get install openjdk-11-jdk-headless -qq > /dev/null\n",
        "!wget -q http://www.apache.org/dist/spark/$SPARK_VERSION/$SPARK_VERSION-bin-hadoop2.7.tgz\n",
        "!tar xf $SPARK_VERSION-bin-hadoop2.7.tgz\n",
        "!pip install -q findspark\n",
        "\n",
        "# Set Environment Variables\n",
        "import os\n",
        "os.environ[\"JAVA_HOME\"] = \"/usr/lib/jvm/java-11-openjdk-amd64\"\n",
        "os.environ[\"SPARK_HOME\"] = f\"/content/{spark_version}-bin-hadoop2.7\"\n",
        "\n",
        "# Start a SparkSession\n",
        "import findspark\n",
        "findspark.init()"
      ],
      "execution_count": 1,
      "outputs": [
        {
          "output_type": "stream",
          "name": "stdout",
          "text": [
            "\r0% [Working]\r            \rGet:1 https://cloud.r-project.org/bin/linux/ubuntu bionic-cran40/ InRelease [3,626 B]\n",
            "Ign:2 https://developer.download.nvidia.com/compute/cuda/repos/ubuntu1804/x86_64  InRelease\n",
            "Ign:3 https://developer.download.nvidia.com/compute/machine-learning/repos/ubuntu1804/x86_64  InRelease\n",
            "Get:4 https://developer.download.nvidia.com/compute/cuda/repos/ubuntu1804/x86_64  Release [696 B]\n",
            "Hit:5 https://developer.download.nvidia.com/compute/machine-learning/repos/ubuntu1804/x86_64  Release\n",
            "Get:6 https://developer.download.nvidia.com/compute/cuda/repos/ubuntu1804/x86_64  Release.gpg [836 B]\n",
            "Get:7 http://ppa.launchpad.net/c2d4u.team/c2d4u4.0+/ubuntu bionic InRelease [15.9 kB]\n",
            "Get:8 http://security.ubuntu.com/ubuntu bionic-security InRelease [88.7 kB]\n",
            "Get:9 https://cloud.r-project.org/bin/linux/ubuntu bionic-cran40/ Packages [76.0 kB]\n",
            "Hit:11 http://archive.ubuntu.com/ubuntu bionic InRelease\n",
            "Hit:12 http://ppa.launchpad.net/cran/libgit2/ubuntu bionic InRelease\n",
            "Get:13 http://archive.ubuntu.com/ubuntu bionic-updates InRelease [88.7 kB]\n",
            "Get:14 https://developer.download.nvidia.com/compute/cuda/repos/ubuntu1804/x86_64  Packages [868 kB]\n",
            "Get:15 http://ppa.launchpad.net/deadsnakes/ppa/ubuntu bionic InRelease [15.9 kB]\n",
            "Get:16 http://archive.ubuntu.com/ubuntu bionic-backports InRelease [74.6 kB]\n",
            "Hit:17 http://ppa.launchpad.net/graphics-drivers/ppa/ubuntu bionic InRelease\n",
            "Get:18 http://ppa.launchpad.net/c2d4u.team/c2d4u4.0+/ubuntu bionic/main Sources [1,823 kB]\n",
            "Get:19 http://security.ubuntu.com/ubuntu bionic-security/restricted amd64 Packages [738 kB]\n",
            "Get:20 http://archive.ubuntu.com/ubuntu bionic-updates/restricted amd64 Packages [771 kB]\n",
            "Get:21 http://security.ubuntu.com/ubuntu bionic-security/main amd64 Packages [2,516 kB]\n",
            "Get:22 http://security.ubuntu.com/ubuntu bionic-security/universe amd64 Packages [1,463 kB]\n",
            "Get:23 http://archive.ubuntu.com/ubuntu bionic-updates/universe amd64 Packages [2,241 kB]\n",
            "Get:24 http://ppa.launchpad.net/c2d4u.team/c2d4u4.0+/ubuntu bionic/main amd64 Packages [934 kB]\n",
            "Get:25 http://archive.ubuntu.com/ubuntu bionic-updates/main amd64 Packages [2,954 kB]\n",
            "Get:26 http://ppa.launchpad.net/deadsnakes/ppa/ubuntu bionic/main amd64 Packages [45.3 kB]\n",
            "Fetched 14.7 MB in 4s (3,460 kB/s)\n",
            "Reading package lists... Done\n"
          ]
        }
      ]
    },
    {
      "cell_type": "code",
      "metadata": {
        "id": "_xKwTpATHqSe",
        "colab": {
          "base_uri": "https://localhost:8080/"
        },
        "outputId": "108bec93-2d61-4f2b-e0f1-592c2cd7aa05"
      },
      "source": [
        "# Download the Postgres driver that will allow Spark to interact with Postgres.\n",
        "!wget https://jdbc.postgresql.org/download/postgresql-42.2.16.jar"
      ],
      "execution_count": 2,
      "outputs": [
        {
          "output_type": "stream",
          "name": "stdout",
          "text": [
            "--2022-01-20 19:09:37--  https://jdbc.postgresql.org/download/postgresql-42.2.16.jar\n",
            "Resolving jdbc.postgresql.org (jdbc.postgresql.org)... 72.32.157.228, 2001:4800:3e1:1::228\n",
            "Connecting to jdbc.postgresql.org (jdbc.postgresql.org)|72.32.157.228|:443... connected.\n",
            "HTTP request sent, awaiting response... 200 OK\n",
            "Length: 1002883 (979K) [application/java-archive]\n",
            "Saving to: ‘postgresql-42.2.16.jar’\n",
            "\n",
            "postgresql-42.2.16. 100%[===================>] 979.38K  4.38MB/s    in 0.2s    \n",
            "\n",
            "2022-01-20 19:09:38 (4.38 MB/s) - ‘postgresql-42.2.16.jar’ saved [1002883/1002883]\n",
            "\n"
          ]
        }
      ]
    },
    {
      "cell_type": "code",
      "metadata": {
        "id": "MMqDAjVS0KN9"
      },
      "source": [
        "from pyspark.sql import SparkSession\n",
        "spark = SparkSession.builder.appName(\"M16-Amazon-Challenge\").config(\"spark.driver.extraClassPath\",\"/content/postgresql-42.2.16.jar\").getOrCreate()"
      ],
      "execution_count": 3,
      "outputs": []
    },
    {
      "cell_type": "markdown",
      "metadata": {
        "id": "cyBsySGuY-9V"
      },
      "source": [
        "### Load Amazon Data into Spark DataFrame"
      ]
    },
    {
      "cell_type": "code",
      "metadata": {
        "id": "CtCmBhQJY-9Z",
        "colab": {
          "base_uri": "https://localhost:8080/"
        },
        "outputId": "7680c33c-89c7-4e70-aa88-083b8ae2ed69"
      },
      "source": [
        "from pyspark import SparkFiles\n",
        "url = \"https://sms-amazon-review.s3.amazonaws.com/amazon_reviews_us_Sports_v1_00.tsv.gz\"\n",
        "spark.sparkContext.addFile(url)\n",
        "df = spark.read.csv(SparkFiles.get(\"amazon_reviews_us_Sports_v1_00.tsv.gz\"), sep=\"\\t\", header=True, inferSchema=True)\n",
        "df.show()"
      ],
      "execution_count": 4,
      "outputs": [
        {
          "output_type": "stream",
          "name": "stdout",
          "text": [
            "+-----------+-----------+--------------+----------+--------------+--------------------+----------------+-----------+-------------+-----------+----+-----------------+--------------------+--------------------+-----------+\n",
            "|marketplace|customer_id|     review_id|product_id|product_parent|       product_title|product_category|star_rating|helpful_votes|total_votes|vine|verified_purchase|     review_headline|         review_body|review_date|\n",
            "+-----------+-----------+--------------+----------+--------------+--------------------+----------------+-----------+-------------+-----------+----+-----------------+--------------------+--------------------+-----------+\n",
            "|         US|   48945260|R1WBPB8MDCCN8F|B012P7UPSM|     409940130|Chicago Blackhawk...|          Sports|          5|            0|          0|   N|                N|   LOVE IT. 6 stars!|Bought this last ...| 2015-08-31|\n",
            "|         US|    5782091|R32M0YEWV77XG8|B001GQ3VHG|     657746679|Copag Poker Size ...|          Sports|          5|            1|          1|   N|                Y|       Shipped fast.|These are the bes...| 2015-08-31|\n",
            "|         US|   45813853| RR8V7WR27NXJ5|B008VS8M58|     962442336|Baoer 223 5.56x45...|          Sports|          1|            0|          0|   N|                Y|Good idea if it w...|It looks good, th...| 2015-08-31|\n",
            "|         US|    1593730|R1MHO5V9Z932AY|B005F06F4U|      74305227|All Terrain Tackl...|          Sports|          5|            0|          0|   N|                Y|          Five Stars|           Great jig| 2015-08-31|\n",
            "|         US|   29605511|R16PD71086BD2V|B010T4IE2C|     787185588|Swim Cap - 3 Pack...|          Sports|          5|            0|          1|   N|                N|Great quality sil...|I love swimming i...| 2015-08-31|\n",
            "|         US|   11112959|R1Z8IFGWTRWXT6|B004RKJGLS|      94127483|adidas Men's Spor...|          Sports|          3|            0|          0|   N|                Y|Love everything a...|Love everything a...| 2015-08-31|\n",
            "|         US|     108031|R3AUMSHAW73HWN|B005V3DCBU|     526977496|Nike Men's Perfor...|          Sports|          4|            2|          3|   N|                N|          Four Stars|not the best sock...| 2015-08-31|\n",
            "|         US|   13981540|R2KWDWFOHGX6FL|B00MHT9WN8|      26521265|Green Bay Packers...|          Sports|          5|            0|          0|   N|                Y|          Five Stars|             Love it| 2015-08-31|\n",
            "|         US|   37993909|R3H9543FWBWFBU|B001CSIRQ8|     652431165|Isokinetics Inc. ...|          Sports|          5|            1|          1|   N|                Y|can't wait to use it|Unfortunately I h...| 2015-08-31|\n",
            "|         US|   26040213| RUANXOQ9W3OU5|B001KZ3NOO|     635861713|Aottop Quality El...|          Sports|          5|            0|          0|   N|                Y|great product, ac...|fast shipping , g...| 2015-08-31|\n",
            "|         US|   34657602|R31673RTGEZSW7|B00005RCQS|      72099763|Everlast 2'x6' Fo...|          Sports|          5|            2|          2|   N|                Y|this mat is a pre...|If you have a ter...| 2015-08-31|\n",
            "|         US|   14346192|R22OQLFSH42RCM|B00FA7RWVI|     757354022|OGIO Men's Shredd...|          Sports|          5|            1|          1|   N|                Y|  Versatile Golf Bag|Love this golf ba...| 2015-08-31|\n",
            "|         US|   38782687|R12LEL4F3TSZUJ|B000MMH2HU|     272402599|Blue Sea Systems ...|          Sports|          5|            2|          2|   N|                Y|Great AC Main Bre...|Perfect mounting ...| 2015-08-31|\n",
            "|         US|   27138575|R2L9XWD03072NI|B00WJOATDS|     375070208|Zengi AR15 45 Deg...|          Sports|          5|            1|          2|   N|                Y|   Nice, some quirks|For the cost you ...| 2015-08-31|\n",
            "|         US|   11838771|R2K0U91HIACANO|B00BOM2JNY|     639666785|Black Mountain Pr...|          Sports|          5|            0|          0|   N|                N|55 cm - Good qual...|The ball is very ...| 2015-08-31|\n",
            "|         US|     535800|R29SP6MBT7MXG7|B00OD5GAFM|      38715442|Trijicon VCOG 1-6...|          Sports|          4|            3|          3|   N|                Y|    Very nice scope.|Very nice scope.....| 2015-08-31|\n",
            "|         US|   23156579|R31XREAAMATEPY|B00CAHDC1K|      57088652|Naruto Headband f...|          Sports|          5|            0|          0|   N|                Y|was for my son an...|           This item| 2015-08-31|\n",
            "|         US|   48107879|R2116AVB87SO38|B004NLHXLG|     114125984|Under Armour Men'...|          Sports|          5|            0|          0|   N|                Y|          Five Stars|greatest socks i ...| 2015-08-31|\n",
            "|         US|   27260960|R3RDVBB6O0X3HW|B00L7OANWI|     883962979|Yes4All Deep Tiss...|          Sports|          5|            0|          0|   N|                Y|          Five Stars|Perfect for home ...| 2015-08-31|\n",
            "|         US|   39537314|R3LW5T149LKKQM|B0085PPSIQ|     691479969|Lansky PS-MED01 B...|          Sports|          4|            0|          0|   N|                Y|A bit heavy for p...|Very good product...| 2015-08-31|\n",
            "+-----------+-----------+--------------+----------+--------------+--------------------+----------------+-----------+-------------+-----------+----+-----------------+--------------------+--------------------+-----------+\n",
            "only showing top 20 rows\n",
            "\n"
          ]
        }
      ]
    },
    {
      "cell_type": "code",
      "metadata": {
        "id": "lzMmkdKmY--D",
        "colab": {
          "base_uri": "https://localhost:8080/"
        },
        "outputId": "dfb8c73c-6d04-4176-b488-cfc6b8b1d6f0"
      },
      "source": [
        "vine_df = df.select([\"review_id\",\"star_rating\",\"helpful_votes\",\"total_votes\",\"vine\",\"verified_purchase\"])\n",
        "vine_df.show()"
      ],
      "execution_count": 5,
      "outputs": [
        {
          "output_type": "stream",
          "name": "stdout",
          "text": [
            "+--------------+-----------+-------------+-----------+----+-----------------+\n",
            "|     review_id|star_rating|helpful_votes|total_votes|vine|verified_purchase|\n",
            "+--------------+-----------+-------------+-----------+----+-----------------+\n",
            "|R1WBPB8MDCCN8F|          5|            0|          0|   N|                N|\n",
            "|R32M0YEWV77XG8|          5|            1|          1|   N|                Y|\n",
            "| RR8V7WR27NXJ5|          1|            0|          0|   N|                Y|\n",
            "|R1MHO5V9Z932AY|          5|            0|          0|   N|                Y|\n",
            "|R16PD71086BD2V|          5|            0|          1|   N|                N|\n",
            "|R1Z8IFGWTRWXT6|          3|            0|          0|   N|                Y|\n",
            "|R3AUMSHAW73HWN|          4|            2|          3|   N|                N|\n",
            "|R2KWDWFOHGX6FL|          5|            0|          0|   N|                Y|\n",
            "|R3H9543FWBWFBU|          5|            1|          1|   N|                Y|\n",
            "| RUANXOQ9W3OU5|          5|            0|          0|   N|                Y|\n",
            "|R31673RTGEZSW7|          5|            2|          2|   N|                Y|\n",
            "|R22OQLFSH42RCM|          5|            1|          1|   N|                Y|\n",
            "|R12LEL4F3TSZUJ|          5|            2|          2|   N|                Y|\n",
            "|R2L9XWD03072NI|          5|            1|          2|   N|                Y|\n",
            "|R2K0U91HIACANO|          5|            0|          0|   N|                N|\n",
            "|R29SP6MBT7MXG7|          4|            3|          3|   N|                Y|\n",
            "|R31XREAAMATEPY|          5|            0|          0|   N|                Y|\n",
            "|R2116AVB87SO38|          5|            0|          0|   N|                Y|\n",
            "|R3RDVBB6O0X3HW|          5|            0|          0|   N|                Y|\n",
            "|R3LW5T149LKKQM|          4|            0|          0|   N|                Y|\n",
            "+--------------+-----------+-------------+-----------+----+-----------------+\n",
            "only showing top 20 rows\n",
            "\n"
          ]
        }
      ]
    },
    {
      "cell_type": "code",
      "source": [
        "# Filter the data and create a new DataFrame to retrieve all the rows where the total_votes count is equal to or greater than 20\n",
        "vote_count= df.filter(\"total_votes >=20\")\n",
        "vote_count.show()"
      ],
      "metadata": {
        "colab": {
          "base_uri": "https://localhost:8080/"
        },
        "id": "-3HjcZRpO7jR",
        "outputId": "d6edd43b-3b58-44cc-af50-3ceb461017cc"
      },
      "execution_count": 6,
      "outputs": [
        {
          "output_type": "stream",
          "name": "stdout",
          "text": [
            "+-----------+-----------+--------------+----------+--------------+--------------------+----------------+-----------+-------------+-----------+----+-----------------+--------------------+--------------------+-----------+\n",
            "|marketplace|customer_id|     review_id|product_id|product_parent|       product_title|product_category|star_rating|helpful_votes|total_votes|vine|verified_purchase|     review_headline|         review_body|review_date|\n",
            "+-----------+-----------+--------------+----------+--------------+--------------------+----------------+-----------+-------------+-----------+----+-----------------+--------------------+--------------------+-----------+\n",
            "|         US|   37480006|R1B4753QMTD8ON|B00U6AE4BK|     632231911|Maxpedition Chubb...|          Sports|          5|           32|         32|   N|                N|Maxpedition Organ...|As a preamble, ha...| 2015-08-31|\n",
            "|         US|   49868087|R28BVHOEL6GCHZ|B011CCGRX8|     403987913|5 Resistance Loop...|          Sports|          5|           21|         21|   N|                Y|Excellent for Phy...|I purchased these...| 2015-08-31|\n",
            "|         US|    8458598|R27IB4BRKO71I0|B0062Y9BLM|     875168903|Sentry Solutions ...|          Sports|          2|           16|         20|   N|                Y|        Just dont...|So i bought this ...| 2015-08-31|\n",
            "|         US|   23595483| RJ86OW12Y4NRL|B00HMDLAPC|     677548322|NIKE Mercurial Li...|          Sports|          5|          124|        128|   N|                Y|My Shins Exclaim:...|I highly recommen...| 2015-08-31|\n",
            "|         US|   42803974|R3KRABOWCH6ZE4|B003DQTJMI|     330329071|Mountain Man Beav...|          Sports|          1|           48|         65|   N|                Y|                WTF!|Dont get me wrong...| 2015-08-31|\n",
            "|         US|    4247498|R1OAKARA30DIWX|B00467H5YW|     440976014|Sunny Health & Fi...|          Sports|          4|           83|         89|   N|                Y|Good quality bike...|I have been spinn...| 2015-08-31|\n",
            "|         US|   25890930|R36LSV4WQ4VB1K|B010OMQSR2|     193862771|Rhino Tactical Gr...|          Sports|          5|           17|         22|   N|                N|Quality scope by ...|Though I do not o...| 2015-08-31|\n",
            "|         US|   15598507|R18BTOE5UGN7UA|B00VNYCZ78|     387735619|4007527 Desantis ...|          Sports|          5|           26|         28|   N|                Y|Weapon fits perfe...|Weapon fits perfe...| 2015-08-31|\n",
            "|         US|   37283673|R1DXLGDSK2WMLD|B00460IFPW|     200966622|Benjamin High Pre...|          Sports|          4|           22|         22|   N|                N|Don't Blame the P...|I have read many ...| 2015-08-31|\n",
            "|         US|     106776| RZG2OHQ12YYZI|B00DGE4BAW|      70810199|Nike Womens Pro C...|          Sports|          5|           30|         31|   N|                Y|      Very satisfied|I was sort worrie...| 2015-08-31|\n",
            "|         US|   48363662|R1ZPBQCT4DYE4Z|B00AU6EEVU|      13742267|Gamo 611009754 .1...|          Sports|          1|           45|         51|   N|                Y|Horrible Customer...|Horrible customer...| 2015-08-31|\n",
            "|         US|   15757589|R16KLPJUNC9GS7|B002ZUR0EW|     930729095|ASICS Ace Low Pro...|          Sports|          5|           20|         21|   N|                Y|My 13-year-old da...|My 13-year-old da...| 2015-08-31|\n",
            "|         US|   38169469|R3Q0414UJO4BDO|B000EZYT3K|     620569131|Century Original ...|          Sports|          1|           23|         28|   N|                Y|I have to reposit...|I've had this wav...| 2015-08-31|\n",
            "|         US|      94649| RDHDT1Z4R8IOF|B00HPQ22XK|     845220278|Vipertek VTS-195 ...|          Sports|          1|           18|         20|   N|                Y|Short-circuited o...|Short-circuited o...| 2015-08-31|\n",
            "|         US|   33069537|R10BO7KWZNBGL1|B00IK2U3C0|     339142563|Zumba Fitness Max...|          Sports|          4|           23|         24|   N|                Y|Very Fun -- Be Su...|You can see a qui...| 2015-08-31|\n",
            "|         US|   46178267|R1H6DQ1UXL6K8U|B00S0YA5GM|     341888516|Balaclava - Windp...|          Sports|          5|           86|         97|   N|                N|Longer Skull Cap,...|[[VIDEOID:65429b3...| 2015-08-31|\n",
            "|         US|   51238346|R32OMS1LSDRCOB|B0118XMTV0|     454318751|Slendertone Abs A...|          Sports|          4|           27|         31|   Y|                N|Fun and Potential...|I have heard some...| 2015-08-31|\n",
            "|         US|   27447817|R1ABJ5P5XAZ9AW|B00RGAPEMQ|     421395304|Diamond Archery I...|          Sports|          5|          174|        187|   N|                N|Easy to maintain ...|This is not a spe...| 2015-08-31|\n",
            "|         US|     107674|R2RRFZ2YFSJ2OF|B012E92P16|     955885072|Storm Warrior Dou...|          Sports|          5|           27|         27|   N|                Y|awesome money wel...|It works great wi...| 2015-08-31|\n",
            "|         US|   50641517|R19G3LWRFBHDX3|B010MEXZZU|      92869912|Brunswick Tzone D...|          Sports|          1|            4|         42|   N|                Y|            One Star|I can't find the ...| 2015-08-31|\n",
            "+-----------+-----------+--------------+----------+--------------+--------------------+----------------+-----------+-------------+-----------+----+-----------------+--------------------+--------------------+-----------+\n",
            "only showing top 20 rows\n",
            "\n"
          ]
        }
      ]
    },
    {
      "cell_type": "code",
      "source": [
        "# Filter the new DataFrame and create a new DataFrame to retrieve all the rows where the number of helpful_votes divided by total_votes is equal to or greater than 50%\n",
        "new_df = vote_count.filter(vote_count[\"helpful_votes\"]/vote_count[\"total_votes\"]>=0.5)\n",
        "new_df.show()"
      ],
      "metadata": {
        "colab": {
          "base_uri": "https://localhost:8080/"
        },
        "id": "RXHvd9p9RLHp",
        "outputId": "b7f8ee38-e9a9-4c59-891f-6c6b2aa9992d"
      },
      "execution_count": 7,
      "outputs": [
        {
          "output_type": "stream",
          "name": "stdout",
          "text": [
            "+-----------+-----------+--------------+----------+--------------+--------------------+----------------+-----------+-------------+-----------+----+-----------------+--------------------+--------------------+-----------+\n",
            "|marketplace|customer_id|     review_id|product_id|product_parent|       product_title|product_category|star_rating|helpful_votes|total_votes|vine|verified_purchase|     review_headline|         review_body|review_date|\n",
            "+-----------+-----------+--------------+----------+--------------+--------------------+----------------+-----------+-------------+-----------+----+-----------------+--------------------+--------------------+-----------+\n",
            "|         US|   37480006|R1B4753QMTD8ON|B00U6AE4BK|     632231911|Maxpedition Chubb...|          Sports|          5|           32|         32|   N|                N|Maxpedition Organ...|As a preamble, ha...| 2015-08-31|\n",
            "|         US|   49868087|R28BVHOEL6GCHZ|B011CCGRX8|     403987913|5 Resistance Loop...|          Sports|          5|           21|         21|   N|                Y|Excellent for Phy...|I purchased these...| 2015-08-31|\n",
            "|         US|    8458598|R27IB4BRKO71I0|B0062Y9BLM|     875168903|Sentry Solutions ...|          Sports|          2|           16|         20|   N|                Y|        Just dont...|So i bought this ...| 2015-08-31|\n",
            "|         US|   23595483| RJ86OW12Y4NRL|B00HMDLAPC|     677548322|NIKE Mercurial Li...|          Sports|          5|          124|        128|   N|                Y|My Shins Exclaim:...|I highly recommen...| 2015-08-31|\n",
            "|         US|   42803974|R3KRABOWCH6ZE4|B003DQTJMI|     330329071|Mountain Man Beav...|          Sports|          1|           48|         65|   N|                Y|                WTF!|Dont get me wrong...| 2015-08-31|\n",
            "|         US|    4247498|R1OAKARA30DIWX|B00467H5YW|     440976014|Sunny Health & Fi...|          Sports|          4|           83|         89|   N|                Y|Good quality bike...|I have been spinn...| 2015-08-31|\n",
            "|         US|   25890930|R36LSV4WQ4VB1K|B010OMQSR2|     193862771|Rhino Tactical Gr...|          Sports|          5|           17|         22|   N|                N|Quality scope by ...|Though I do not o...| 2015-08-31|\n",
            "|         US|   15598507|R18BTOE5UGN7UA|B00VNYCZ78|     387735619|4007527 Desantis ...|          Sports|          5|           26|         28|   N|                Y|Weapon fits perfe...|Weapon fits perfe...| 2015-08-31|\n",
            "|         US|   37283673|R1DXLGDSK2WMLD|B00460IFPW|     200966622|Benjamin High Pre...|          Sports|          4|           22|         22|   N|                N|Don't Blame the P...|I have read many ...| 2015-08-31|\n",
            "|         US|     106776| RZG2OHQ12YYZI|B00DGE4BAW|      70810199|Nike Womens Pro C...|          Sports|          5|           30|         31|   N|                Y|      Very satisfied|I was sort worrie...| 2015-08-31|\n",
            "|         US|   48363662|R1ZPBQCT4DYE4Z|B00AU6EEVU|      13742267|Gamo 611009754 .1...|          Sports|          1|           45|         51|   N|                Y|Horrible Customer...|Horrible customer...| 2015-08-31|\n",
            "|         US|   15757589|R16KLPJUNC9GS7|B002ZUR0EW|     930729095|ASICS Ace Low Pro...|          Sports|          5|           20|         21|   N|                Y|My 13-year-old da...|My 13-year-old da...| 2015-08-31|\n",
            "|         US|   38169469|R3Q0414UJO4BDO|B000EZYT3K|     620569131|Century Original ...|          Sports|          1|           23|         28|   N|                Y|I have to reposit...|I've had this wav...| 2015-08-31|\n",
            "|         US|      94649| RDHDT1Z4R8IOF|B00HPQ22XK|     845220278|Vipertek VTS-195 ...|          Sports|          1|           18|         20|   N|                Y|Short-circuited o...|Short-circuited o...| 2015-08-31|\n",
            "|         US|   33069537|R10BO7KWZNBGL1|B00IK2U3C0|     339142563|Zumba Fitness Max...|          Sports|          4|           23|         24|   N|                Y|Very Fun -- Be Su...|You can see a qui...| 2015-08-31|\n",
            "|         US|   46178267|R1H6DQ1UXL6K8U|B00S0YA5GM|     341888516|Balaclava - Windp...|          Sports|          5|           86|         97|   N|                N|Longer Skull Cap,...|[[VIDEOID:65429b3...| 2015-08-31|\n",
            "|         US|   51238346|R32OMS1LSDRCOB|B0118XMTV0|     454318751|Slendertone Abs A...|          Sports|          4|           27|         31|   Y|                N|Fun and Potential...|I have heard some...| 2015-08-31|\n",
            "|         US|   27447817|R1ABJ5P5XAZ9AW|B00RGAPEMQ|     421395304|Diamond Archery I...|          Sports|          5|          174|        187|   N|                N|Easy to maintain ...|This is not a spe...| 2015-08-31|\n",
            "|         US|     107674|R2RRFZ2YFSJ2OF|B012E92P16|     955885072|Storm Warrior Dou...|          Sports|          5|           27|         27|   N|                Y|awesome money wel...|It works great wi...| 2015-08-31|\n",
            "|         US|   19397215| RJ0T139KDORXP|B00HAMJA20|     723592737|Paracord Planet 1...|          Sports|          5|           23|         24|   N|                Y|Great product for...|This was exactly ...| 2015-08-31|\n",
            "+-----------+-----------+--------------+----------+--------------+--------------------+----------------+-----------+-------------+-----------+----+-----------------+--------------------+--------------------+-----------+\n",
            "only showing top 20 rows\n",
            "\n"
          ]
        }
      ]
    },
    {
      "cell_type": "code",
      "source": [
        "# Filter the DataFrame and create a new DataFrame or table that retrieves all the rows where a review was written as part of the Vine program (paid).\n",
        "paid_review = new_df.filter(new_df[\"vine\"]=='Y')\n",
        "paid_review.show()"
      ],
      "metadata": {
        "colab": {
          "base_uri": "https://localhost:8080/"
        },
        "id": "WxrMmJheST0I",
        "outputId": "657485e0-5952-4da5-aa45-798dd6ee15aa"
      },
      "execution_count": 24,
      "outputs": [
        {
          "output_type": "stream",
          "name": "stdout",
          "text": [
            "+-----------+-----------+--------------+----------+--------------+--------------------+----------------+-----------+-------------+-----------+----+-----------------+--------------------+--------------------+-----------+\n",
            "|marketplace|customer_id|     review_id|product_id|product_parent|       product_title|product_category|star_rating|helpful_votes|total_votes|vine|verified_purchase|     review_headline|         review_body|review_date|\n",
            "+-----------+-----------+--------------+----------+--------------+--------------------+----------------+-----------+-------------+-----------+----+-----------------+--------------------+--------------------+-----------+\n",
            "|         US|   51238346|R32OMS1LSDRCOB|B0118XMTV0|     454318751|Slendertone Abs A...|          Sports|          4|           27|         31|   Y|                N|Fun and Potential...|I have heard some...| 2015-08-31|\n",
            "|         US|   31282801|R2IPKK4I0XRCFR|B00R3MZU80|     470964994|AmazonBasics Resi...|          Sports|          4|           16|         21|   Y|                N|Strong and versatile|I've never owned ...| 2015-08-28|\n",
            "|         US|   50738297| RXYYJ8SGI9IX6|B00T9N2M0K|      75297990|Bushnell Legend L...|          Sports|          5|           36|         41|   Y|                N|Best in League, A...|The Bushnell LEGE...| 2015-08-23|\n",
            "|         US|   52389452|R1SAUBFC7T6JHC|B0102UUH0U|     247322872|Gaiam Backless Ba...|          Sports|          5|           73|         75|   Y|                N| Pretty darned great|I own a number of...| 2015-08-22|\n",
            "|         US|   16449486|R329HVJKKHWSG3|B00UOYN7J8|     582990100|GolfBuddy WT5 Gol...|          Sports|          5|           59|         59|   Y|                N|            Golf GPS|I really like thi...| 2015-08-05|\n",
            "|         US|   51401810| RZL21K50M52KW|B00UOYN7J8|     582990100|GolfBuddy WT5 Gol...|          Sports|          5|           22|         22|   Y|                N|Only leaves your ...|At first I though...| 2015-08-02|\n",
            "|         US|   42766892|R24RC5J2D92SBE|B00QLVN8ME|     218231145|TaylorMade Men's ...|          Sports|          5|           19|         20|   Y|                N|              Wow...|Allow me to be fr...| 2015-08-01|\n",
            "|         US|   26955164|R1803HITBY7Y08|B00SX7JPMG|     335026890|Simmons 801600 Vo...|          Sports|          4|           92|        104|   Y|                N|Entry level price...|For those on a bu...| 2015-08-01|\n",
            "|         US|   52860329|R1888B8Z6QWYZ4|B00SX7JPMG|     335026890|Simmons 801600 Vo...|          Sports|          4|           18|         25|   Y|                N|Cheap. Accurate. ...|Depress single bu...| 2015-07-28|\n",
            "|         US|   31129802|R1S538NK2I5PRL|B00UOYN7J8|     582990100|GolfBuddy WT5 Gol...|          Sports|          5|           21|         22|   Y|                N|Great Golf Accessory|I like using the ...| 2015-07-24|\n",
            "|         US|   45351550| RZDTBIS1289HJ|B00TP85YUE|     312217522|Primos 12MP Proof...|          Sports|          5|           26|         28|   Y|                N|Back to basics wi...|So depending on w...| 2015-07-24|\n",
            "|         US|   26955164|R1MWLO2PFODMQ3|B00QLVEF9E|     432026198|TaylorMade Men's ...|          Sports|          5|           31|         32|   Y|                N|Your time has com...|What comes with t...| 2015-07-12|\n",
            "|         US|   35733349|R3O6EMC0ISQY92|B00WQIV96S|     326034256|Gaiam Kids Stay-N...|          Sports|          4|           25|         27|   Y|                N|Fun ball but for ...|I got this for ou...| 2015-07-10|\n",
            "|         US|   36470546|R1OGJY9TSNXXX3|B00XRDONXC|      39871630|SKLZ Pro Mini XL ...|          Sports|          5|           19|         22|   Y|                N|Several Advantage...|Wow, this is sooo...| 2015-06-24|\n",
            "|         US|   48428870| R3AOPWQNKJ6VE|B00XRDONXC|      39871630|SKLZ Pro Mini XL ...|          Sports|          5|           25|         29|   Y|                N|Great office, dor...|This Sklz mini ho...| 2015-06-20|\n",
            "|         US|   30095805|R1XJFRM9ANTVSZ|B00VUMGYLQ|     628585657|SKLZ Quickster So...|          Sports|          4|           44|         46|   Y|                N|For the money, a ...|This is a decent ...| 2015-06-17|\n",
            "|         US|   52754239|R1VDF41NJMDGBT|B00T5VQBU8|     185741040|CaddyDaddy Golf P...|          Sports|          2|           23|         29|   Y|                N|So large it's pra...|I'm not going to ...| 2015-06-14|\n",
            "|         US|   32028733|R2C0QDBA4NEEKD|B00VS36SN6|     689268241|Jillian Michaels ...|          Sports|          3|          173|        200|   Y|                N|Solid Workouts; P...|First, let me sta...| 2015-05-28|\n",
            "|         US|   51635935|R3TUMV5DZL433H|B00VS36SN6|     689268241|Jillian Michaels ...|          Sports|          4|           29|         38|   Y|                N|Not for the (fatt...|This is intimidat...| 2015-05-28|\n",
            "|         US|   51624877| RVU1EA54INF9T|B00RW8HVYG|     121951908|adidas Performanc...|          Sports|          5|           19|         21|   Y|                N|5 stars for a sol...|ADIDAS, &#34;All ...| 2015-05-25|\n",
            "+-----------+-----------+--------------+----------+--------------+--------------------+----------------+-----------+-------------+-----------+----+-----------------+--------------------+--------------------+-----------+\n",
            "only showing top 20 rows\n",
            "\n"
          ]
        }
      ]
    },
    {
      "cell_type": "code",
      "source": [
        "# retrieve all the rows where the review was not part of the Vine program (unpaid).\n",
        "unpaid_review = new_df.filter(new_df[\"vine\"]=='N')"
      ],
      "metadata": {
        "id": "fj7viLenTmNO"
      },
      "execution_count": 9,
      "outputs": []
    },
    {
      "cell_type": "code",
      "source": [
        "\n",
        "unpaid_review.describe().show()\n"
      ],
      "metadata": {
        "colab": {
          "base_uri": "https://localhost:8080/"
        },
        "id": "_098aD6zEBH-",
        "outputId": "f82a8ac1-3735-4c66-a2ae-0fbcef7e06c6"
      },
      "execution_count": 12,
      "outputs": [
        {
          "output_type": "stream",
          "name": "stdout",
          "text": [
            "+-------+-----------+--------------------+--------------+--------------------+-------------------+--------------------+----------------+------------------+-----------------+------------------+-----+-----------------+------------------+-----------+-----------+\n",
            "|summary|marketplace|         customer_id|     review_id|          product_id|     product_parent|       product_title|product_category|       star_rating|    helpful_votes|       total_votes| vine|verified_purchase|   review_headline|review_body|review_date|\n",
            "+-------+-----------+--------------------+--------------+--------------------+-------------------+--------------------+----------------+------------------+-----------------+------------------+-----+-----------------+------------------+-----------+-----------+\n",
            "|  count|      61614|               61614|         61614|               61614|              61614|               61614|           61614|             61614|            61614|             61614|61614|            61614|             61612|      61591|      61613|\n",
            "|   mean|       null|3.0896436104732692E7|          null| 5.238090508013158E9| 4.98261730338884E8|                null|            null|3.8771058525659754|50.94887525562372|56.097558996332005| null|             null|               1.8|       null|       null|\n",
            "| stddev|       null|1.4865122352039687E7|          null|3.0259859544708223E9|2.886213889989899E8|                null|            null|1.4764334185751982|103.9569927953232|108.97394149772389| null|             null|1.3038404810405297|       null|       null|\n",
            "|    min|         US|               10499|R1002IDT34USH7|          0395911737|              29646|! Training Ropes ...|          Sports|                 1|               10|                20|    N|                N|            \u001a\u001a\u001a\u001a\u001a\u001a|          \u001a| 1999-04-02|\n",
            "|    max|         US|            53096363| RZZTD14VO9O1A|          B013XL3Z4U|          999969669|★ SALE ★ YesBelt ...|          Sports|                 5|             7379|              7512|    N|                Y|      👍🏽👍🏽👍🏽|   😞😞😞😢| 2015-08-31|\n",
            "+-------+-----------+--------------------+--------------+--------------------+-------------------+--------------------+----------------+------------------+-----------------+------------------+-----+-----------------+------------------+-----------+-----------+\n",
            "\n"
          ]
        }
      ]
    },
    {
      "cell_type": "markdown",
      "source": [
        "Determine the total number of reviews, the number of 5-star reviews, and the percentage of 5-star reviews for the two types of review (paid vs unpaid)."
      ],
      "metadata": {
        "id": "krtN4LGEmCuS"
      }
    },
    {
      "cell_type": "code",
      "source": [
        "paid_review.count()"
      ],
      "metadata": {
        "colab": {
          "base_uri": "https://localhost:8080/"
        },
        "id": "b4j_J_Rn7DR-",
        "outputId": "31a76438-49e0-4140-a54f-f0ed219ccf5a"
      },
      "execution_count": 25,
      "outputs": [
        {
          "output_type": "execute_result",
          "data": {
            "text/plain": [
              "334"
            ]
          },
          "metadata": {},
          "execution_count": 25
        }
      ]
    },
    {
      "cell_type": "code",
      "source": [
        "unpaid_review.count()"
      ],
      "metadata": {
        "colab": {
          "base_uri": "https://localhost:8080/"
        },
        "id": "LhPn9T037O3-",
        "outputId": "e9ba8e99-425e-4e73-8f53-0b4c495786d4"
      },
      "execution_count": 26,
      "outputs": [
        {
          "output_type": "execute_result",
          "data": {
            "text/plain": [
              "61614"
            ]
          },
          "metadata": {},
          "execution_count": 26
        }
      ]
    },
    {
      "cell_type": "code",
      "source": [
        "# total number of reviews\n",
        "total_reviews = new_df.count()\n",
        "total_reviews"
      ],
      "metadata": {
        "colab": {
          "base_uri": "https://localhost:8080/"
        },
        "id": "ytWvRSzpT01F",
        "outputId": "a1ac3256-73ee-4d90-bccb-def53fc72fbf"
      },
      "execution_count": 13,
      "outputs": [
        {
          "output_type": "execute_result",
          "data": {
            "text/plain": [
              "61948"
            ]
          },
          "metadata": {},
          "execution_count": 13
        }
      ]
    },
    {
      "cell_type": "code",
      "source": [
        "# Number of five star reviews\n",
        "five_star = new_df.filter(new_df[\"star_rating\"]==5)\n",
        "five_star.count()"
      ],
      "metadata": {
        "colab": {
          "base_uri": "https://localhost:8080/"
        },
        "id": "o1lKzA9pVY_i",
        "outputId": "ccc80e23-a176-432d-fd98-a9d02752baee"
      },
      "execution_count": 14,
      "outputs": [
        {
          "output_type": "execute_result",
          "data": {
            "text/plain": [
              "32804"
            ]
          },
          "metadata": {},
          "execution_count": 14
        }
      ]
    },
    {
      "cell_type": "code",
      "source": [
        "unpaid_five_star = unpaid_review.filter(unpaid_review[\"star_rating\"]==5)\n",
        "unpaid_five_star.count()"
      ],
      "metadata": {
        "colab": {
          "base_uri": "https://localhost:8080/"
        },
        "id": "63RV3XARcbIm",
        "outputId": "be6fc6e2-9c12-4bb0-9b98-cb1a8a00a5da"
      },
      "execution_count": 27,
      "outputs": [
        {
          "output_type": "execute_result",
          "data": {
            "text/plain": [
              "32665"
            ]
          },
          "metadata": {},
          "execution_count": 27
        }
      ]
    },
    {
      "cell_type": "code",
      "source": [
        "paid_five_star = paid_review.filter(paid_review[\"star_rating\"]==5)\n",
        "paid_five_star.count()"
      ],
      "metadata": {
        "colab": {
          "base_uri": "https://localhost:8080/"
        },
        "id": "C6bG1x4n9_N1",
        "outputId": "c20e73bd-ed6c-4ac3-845a-b6a8915eab48"
      },
      "execution_count": 28,
      "outputs": [
        {
          "output_type": "execute_result",
          "data": {
            "text/plain": [
              "139"
            ]
          },
          "metadata": {},
          "execution_count": 28
        }
      ]
    },
    {
      "cell_type": "code",
      "source": [
        "five_star.show()"
      ],
      "metadata": {
        "colab": {
          "base_uri": "https://localhost:8080/"
        },
        "id": "7IT3gLJFZO_t",
        "outputId": "ea8a6731-8f5c-493d-af54-a1580a52500f"
      },
      "execution_count": 15,
      "outputs": [
        {
          "output_type": "stream",
          "name": "stdout",
          "text": [
            "+-----------+-----------+--------------+----------+--------------+--------------------+----------------+-----------+-------------+-----------+----+-----------------+--------------------+--------------------+-----------+\n",
            "|marketplace|customer_id|     review_id|product_id|product_parent|       product_title|product_category|star_rating|helpful_votes|total_votes|vine|verified_purchase|     review_headline|         review_body|review_date|\n",
            "+-----------+-----------+--------------+----------+--------------+--------------------+----------------+-----------+-------------+-----------+----+-----------------+--------------------+--------------------+-----------+\n",
            "|         US|   37480006|R1B4753QMTD8ON|B00U6AE4BK|     632231911|Maxpedition Chubb...|          Sports|          5|           32|         32|   N|                N|Maxpedition Organ...|As a preamble, ha...| 2015-08-31|\n",
            "|         US|   49868087|R28BVHOEL6GCHZ|B011CCGRX8|     403987913|5 Resistance Loop...|          Sports|          5|           21|         21|   N|                Y|Excellent for Phy...|I purchased these...| 2015-08-31|\n",
            "|         US|   23595483| RJ86OW12Y4NRL|B00HMDLAPC|     677548322|NIKE Mercurial Li...|          Sports|          5|          124|        128|   N|                Y|My Shins Exclaim:...|I highly recommen...| 2015-08-31|\n",
            "|         US|   25890930|R36LSV4WQ4VB1K|B010OMQSR2|     193862771|Rhino Tactical Gr...|          Sports|          5|           17|         22|   N|                N|Quality scope by ...|Though I do not o...| 2015-08-31|\n",
            "|         US|   15598507|R18BTOE5UGN7UA|B00VNYCZ78|     387735619|4007527 Desantis ...|          Sports|          5|           26|         28|   N|                Y|Weapon fits perfe...|Weapon fits perfe...| 2015-08-31|\n",
            "|         US|     106776| RZG2OHQ12YYZI|B00DGE4BAW|      70810199|Nike Womens Pro C...|          Sports|          5|           30|         31|   N|                Y|      Very satisfied|I was sort worrie...| 2015-08-31|\n",
            "|         US|   15757589|R16KLPJUNC9GS7|B002ZUR0EW|     930729095|ASICS Ace Low Pro...|          Sports|          5|           20|         21|   N|                Y|My 13-year-old da...|My 13-year-old da...| 2015-08-31|\n",
            "|         US|   46178267|R1H6DQ1UXL6K8U|B00S0YA5GM|     341888516|Balaclava - Windp...|          Sports|          5|           86|         97|   N|                N|Longer Skull Cap,...|[[VIDEOID:65429b3...| 2015-08-31|\n",
            "|         US|   27447817|R1ABJ5P5XAZ9AW|B00RGAPEMQ|     421395304|Diamond Archery I...|          Sports|          5|          174|        187|   N|                N|Easy to maintain ...|This is not a spe...| 2015-08-31|\n",
            "|         US|     107674|R2RRFZ2YFSJ2OF|B012E92P16|     955885072|Storm Warrior Dou...|          Sports|          5|           27|         27|   N|                Y|awesome money wel...|It works great wi...| 2015-08-31|\n",
            "|         US|   19397215| RJ0T139KDORXP|B00HAMJA20|     723592737|Paracord Planet 1...|          Sports|          5|           23|         24|   N|                Y|Great product for...|This was exactly ...| 2015-08-31|\n",
            "|         US|   12646947|R30MVK7HP2DW91|B00Z8KBEBQ|     205836280|Earth Pak -Waterp...|          Sports|          5|           84|        124|   N|                Y|best quality dry ...|VERY heavy duty m...| 2015-08-31|\n",
            "|         US|   11909933|  RUCON6HXM398|B010VMA83A|      47944275|Alfamo Cooling To...|          Sports|          5|          390|        403|   N|                N|Best cooling towe...|I have bought oth...| 2015-08-31|\n",
            "|         US|   14499497| R4XRDHX028RAG|B00Z8J72Q8|     205836280|Earth Pak -Waterp...|          Sports|          5|           99|        128|   N|                N|Nice Quality! Gre...|Very well constru...| 2015-08-31|\n",
            "|         US|   15615775|R37WSELYLYRBIY|B00ZUABRXO|     324438362|GoSports Giant To...|          Sports|          5|           60|         64|   N|                Y|       Great Product|I own a party ren...| 2015-08-30|\n",
            "|         US|   50452994| R3PQJG19LMKIY|B013Q0451U|     101736294|Savvy Infusion Fl...|          Sports|          5|           19|         23|   N|                N|It's always hard ...|[[VIDEOID:2535b6d...| 2015-08-30|\n",
            "|         US|   14304787|R2T8ORXQ0I97QT|B00UT9RV3G|     655410490|Glock Perfection ...|          Sports|          5|           21|         21|   N|                Y|  Perfect range bag.|Well made bag. He...| 2015-08-30|\n",
            "|         US|   16951294|R3FZ39FVWGUSG8|B00MXNYBFW|     436029968|IC ICLOVER 47\" Ex...|          Sports|          5|           24|         27|   N|                Y|Cheap price but a...|Received the IC I...| 2015-08-30|\n",
            "|         US|   22231767|R2YB7WAQJETXQN|B00R3NNWXY|     524722037|Buck Knives 0104W...|          Sports|          5|           46|         50|   N|                Y|Does what it's ma...|Bought this after...| 2015-08-30|\n",
            "|         US|   17266118|R2SYXXZJNQNQOR|B00B0E1MB6|     337375436|Benchmade - Bushc...|          Sports|          5|           30|         31|   N|                Y|   Ideal Field Knife|This is a serious...| 2015-08-30|\n",
            "+-----------+-----------+--------------+----------+--------------+--------------------+----------------+-----------+-------------+-----------+----+-----------------+--------------------+--------------------+-----------+\n",
            "only showing top 20 rows\n",
            "\n"
          ]
        }
      ]
    },
    {
      "cell_type": "code",
      "source": [
        "# percentage of fivestar reviews (paid). \n",
        "five_star.filter(five_star[\"verified_purchase\"] == \"Y\").count()/new_df.filter(new_df[\"verified_purchase\"]== \"Y\").count()\n"
      ],
      "metadata": {
        "colab": {
          "base_uri": "https://localhost:8080/"
        },
        "id": "-Ctcv68kWVVf",
        "outputId": "ad9f588d-2e87-4e36-fefb-af0b53bdcab2"
      },
      "execution_count": 16,
      "outputs": [
        {
          "output_type": "execute_result",
          "data": {
            "text/plain": [
              "0.5361346516007532"
            ]
          },
          "metadata": {},
          "execution_count": 16
        }
      ]
    },
    {
      "cell_type": "code",
      "source": [
        "# percentage of fivestar reviews (unpaid).\n",
        "five_star.filter(five_star[\"verified_purchase\"] == \"N\").count()/new_df.filter(new_df[\"verified_purchase\"]== \"N\").count()"
      ],
      "metadata": {
        "colab": {
          "base_uri": "https://localhost:8080/"
        },
        "id": "HwoggCPsfxYx",
        "outputId": "fa04685b-7521-475f-ad8d-66bd47ab21ab"
      },
      "execution_count": 17,
      "outputs": [
        {
          "output_type": "execute_result",
          "data": {
            "text/plain": [
              "0.5151530717074173"
            ]
          },
          "metadata": {},
          "execution_count": 17
        }
      ]
    }
  ]
}